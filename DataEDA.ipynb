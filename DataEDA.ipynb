{
 "cells": [
  {
   "cell_type": "code",
   "execution_count": 13,
   "id": "72e91458",
   "metadata": {},
   "outputs": [],
   "source": [
    "import pandas as pd\n",
    "import numpy as np"
   ]
  },
  {
   "cell_type": "code",
   "execution_count": 4,
   "id": "11a9f000",
   "metadata": {},
   "outputs": [],
   "source": [
    "train = pd.read_csv('data/train.csv')"
   ]
  },
  {
   "cell_type": "code",
   "execution_count": 6,
   "id": "10324850",
   "metadata": {
    "scrolled": false
   },
   "outputs": [
    {
     "data": {
      "text/html": [
       "<div>\n",
       "<style scoped>\n",
       "    .dataframe tbody tr th:only-of-type {\n",
       "        vertical-align: middle;\n",
       "    }\n",
       "\n",
       "    .dataframe tbody tr th {\n",
       "        vertical-align: top;\n",
       "    }\n",
       "\n",
       "    .dataframe thead th {\n",
       "        text-align: right;\n",
       "    }\n",
       "</style>\n",
       "<table border=\"1\" class=\"dataframe\">\n",
       "  <thead>\n",
       "    <tr style=\"text-align: right;\">\n",
       "      <th></th>\n",
       "      <th>id</th>\n",
       "      <th>SMILES</th>\n",
       "      <th>MLM</th>\n",
       "      <th>HLM</th>\n",
       "      <th>AlogP</th>\n",
       "      <th>Molecular_Weight</th>\n",
       "      <th>Num_H_Acceptors</th>\n",
       "      <th>Num_H_Donors</th>\n",
       "      <th>Num_RotatableBonds</th>\n",
       "      <th>LogD</th>\n",
       "      <th>Molecular_PolarSurfaceArea</th>\n",
       "    </tr>\n",
       "  </thead>\n",
       "  <tbody>\n",
       "    <tr>\n",
       "      <th>0</th>\n",
       "      <td>TRAIN_0000</td>\n",
       "      <td>CCOc1ccc(CNC(=O)c2cc(-c3sc(C)nc3C)n[nH]2)cc1OCC</td>\n",
       "      <td>26.010</td>\n",
       "      <td>50.680</td>\n",
       "      <td>3.259</td>\n",
       "      <td>400.495</td>\n",
       "      <td>5</td>\n",
       "      <td>2</td>\n",
       "      <td>8</td>\n",
       "      <td>3.259</td>\n",
       "      <td>117.37</td>\n",
       "    </tr>\n",
       "    <tr>\n",
       "      <th>1</th>\n",
       "      <td>TRAIN_0001</td>\n",
       "      <td>Cc1nc(C)c(CN2CC(C)C(=O)Nc3ccccc32)s1</td>\n",
       "      <td>29.270</td>\n",
       "      <td>50.590</td>\n",
       "      <td>2.169</td>\n",
       "      <td>301.407</td>\n",
       "      <td>2</td>\n",
       "      <td>1</td>\n",
       "      <td>2</td>\n",
       "      <td>2.172</td>\n",
       "      <td>73.47</td>\n",
       "    </tr>\n",
       "    <tr>\n",
       "      <th>2</th>\n",
       "      <td>TRAIN_0002</td>\n",
       "      <td>CCCN1CCN(c2nn3nnnc3c3ccccc23)CC1</td>\n",
       "      <td>5.586</td>\n",
       "      <td>80.892</td>\n",
       "      <td>1.593</td>\n",
       "      <td>297.358</td>\n",
       "      <td>5</td>\n",
       "      <td>0</td>\n",
       "      <td>3</td>\n",
       "      <td>1.585</td>\n",
       "      <td>62.45</td>\n",
       "    </tr>\n",
       "    <tr>\n",
       "      <th>3</th>\n",
       "      <td>TRAIN_0003</td>\n",
       "      <td>Cc1ccc(-c2ccc(-n3nc(C)c(S(=O)(=O)N4CCN(C5CCCCC...</td>\n",
       "      <td>5.710</td>\n",
       "      <td>2.000</td>\n",
       "      <td>4.771</td>\n",
       "      <td>494.652</td>\n",
       "      <td>6</td>\n",
       "      <td>0</td>\n",
       "      <td>5</td>\n",
       "      <td>3.475</td>\n",
       "      <td>92.60</td>\n",
       "    </tr>\n",
       "    <tr>\n",
       "      <th>4</th>\n",
       "      <td>TRAIN_0004</td>\n",
       "      <td>Cc1ccc2c(c1)N(C(=O)c1ccncc1)CC(C)O2</td>\n",
       "      <td>93.270</td>\n",
       "      <td>99.990</td>\n",
       "      <td>2.335</td>\n",
       "      <td>268.310</td>\n",
       "      <td>3</td>\n",
       "      <td>0</td>\n",
       "      <td>1</td>\n",
       "      <td>2.337</td>\n",
       "      <td>42.43</td>\n",
       "    </tr>\n",
       "  </tbody>\n",
       "</table>\n",
       "</div>"
      ],
      "text/plain": [
       "           id                                             SMILES     MLM  \\\n",
       "0  TRAIN_0000    CCOc1ccc(CNC(=O)c2cc(-c3sc(C)nc3C)n[nH]2)cc1OCC  26.010   \n",
       "1  TRAIN_0001               Cc1nc(C)c(CN2CC(C)C(=O)Nc3ccccc32)s1  29.270   \n",
       "2  TRAIN_0002                   CCCN1CCN(c2nn3nnnc3c3ccccc23)CC1   5.586   \n",
       "3  TRAIN_0003  Cc1ccc(-c2ccc(-n3nc(C)c(S(=O)(=O)N4CCN(C5CCCCC...   5.710   \n",
       "4  TRAIN_0004                Cc1ccc2c(c1)N(C(=O)c1ccncc1)CC(C)O2  93.270   \n",
       "\n",
       "      HLM  AlogP  Molecular_Weight  Num_H_Acceptors  Num_H_Donors  \\\n",
       "0  50.680  3.259           400.495                5             2   \n",
       "1  50.590  2.169           301.407                2             1   \n",
       "2  80.892  1.593           297.358                5             0   \n",
       "3   2.000  4.771           494.652                6             0   \n",
       "4  99.990  2.335           268.310                3             0   \n",
       "\n",
       "   Num_RotatableBonds   LogD  Molecular_PolarSurfaceArea  \n",
       "0                   8  3.259                      117.37  \n",
       "1                   2  2.172                       73.47  \n",
       "2                   3  1.585                       62.45  \n",
       "3                   5  3.475                       92.60  \n",
       "4                   1  2.337                       42.43  "
      ]
     },
     "execution_count": 6,
     "metadata": {},
     "output_type": "execute_result"
    }
   ],
   "source": [
    "train.head()"
   ]
  },
  {
   "cell_type": "markdown",
   "id": "a3026366",
   "metadata": {},
   "source": [
    "# LogP와 LogD란?\n",
    "\n",
    "LogP\n",
    "LogP는 용질과 유기화합물 간의 분배 계수로, 용매에서의 분배 형태를 나타내는 물성입니다. LogP는 간단하게 말해 유기화합물의 수분해성을 예측하는 데 사용됩니다. 이 값이 높을수록 수분해성이 낮아지고, 낮을수록 수분해성이 높습니다.\n",
    "약물 개발에서는 약물의 용해도, 흡수, 분포, 대사, 배설 등 다양한 생리학적 과정에 영향을 미치기 때문에 LogP 값이 높고 낮은 것보다 적절한 값을 가지는 것이 중요합니다.\n",
    "\n",
    "\n",
    "LogD\n",
    "LogD는 LogP와 유사한 개념으로, 분자가 어떤 pH에서 어떤 형태로 존재하는지를 나타내는 지표입니다. 이 값은 약물의 약력학적 특성 예측에 매우 중요한 역할을 합니다.\n",
    "\n",
    " \n",
    "\n",
    "LogP와 LogD의 차이\n",
    " \n",
    "\n",
    "계산 방법의 차이\n",
    "LogP와 LogD의 계산 방법은 서로 다릅니다. LogP는 octanol-water partition coefficient를 이용하여 계산되며, LogD는 pH와 분자의 상태를 고려하여 계산됩니다.\n",
    "\n",
    " \n",
    "\n",
    "의미의 차이\n",
    "LogP는 용매에서의 분배 형태를 나타내는 지표이지만, LogD는 분자가 어떤 pH에서 어떤 형태로 존재하는지를 나타내는 지표입니다. LogP와 LogD는 서로 다른 화학적 물성을 나타내기 때문에, 예측 결과에 차이가 있을 수 있습니다.\n",
    "\n",
    " \n",
    "\n",
    "LogP와 LogD의 의의\n",
    "화학적 물성의 예측\n",
    "LogP와 LogD는 화학적 물성 예측에서 매우 중요한 역할을 합니다. 화학물질 등록, 평가, 허가 등의 분야에서는 이 값들을 이용하여 화학적 물성 예측을 수행합니다.\n",
    "\n",
    " \n",
    "\n",
    "약물 개발에서의 활용\n",
    "LogP와 LogD는 약물 개발에서도 매우 중요한 역할을 합니다. 특히, 약물의 용해도, 흡수, 분포, 대사, 배설 등 다양한 생리학적 과정을 예측하는 데에 이용됩니다.\n",
    "\n",
    " \n",
    "\n",
    "화학물질 등록, 평가, 허가에서의 역할\n",
    "LogP와 LogD 값은 화학물질 등록, 평가, 허가 등의 과정에서 매우 중요한 역할을 합니다. 이 값들을 이용하여 화학물질의 안전성, 독성 등을 예측할 수 있습니다.\n",
    "\n",
    " \n",
    "\n",
    "LogP와 LogD의 중요성\n",
    "LogP와 LogD는 약물 개발에서 매우 중요한 역할을 합니다. 두 값들 모두 약물의 용해도, 흡수, 분포, 대사, 배설 등 다양한 생리학적 과정을 예측하는 데에 이용됩니다. LogP와 LogD 값이 높을수록 약물의 수분해성이 낮아지기 때문에, 이 값들을 이용하여 효과적인 약물 개발이 가능합니다.\n",
    "화학물질 등록, 평가, 허가 등의 분야에서는 LogP와 LogD 값이 안전성, 독성 등의 예측에 매우 중요한 역할을 합니다. 이 값들을 이용하여 화학물질의 위해성을 예측하고, 적절한 조치를 취함으로써 인간 건강과 환경을 보호할 수 있습니다."
   ]
  },
  {
   "cell_type": "code",
   "execution_count": 8,
   "id": "80161449",
   "metadata": {},
   "outputs": [],
   "source": [
    "from rdkit import DataStructs\n",
    "from rdkit.Chem import PandasTools, AllChem"
   ]
  },
  {
   "cell_type": "code",
   "execution_count": 10,
   "id": "795a3bdb",
   "metadata": {},
   "outputs": [],
   "source": [
    "PandasTools.AddMoleculeColumnToFrame(train,'SMILES','Molecule')"
   ]
  },
  {
   "cell_type": "code",
   "execution_count": 27,
   "id": "62ba55a2",
   "metadata": {},
   "outputs": [],
   "source": [
    "def mol2fp(mol):\n",
    "    fp = AllChem.GetHashedMorganFingerprint(mol, 6, nBits=1024)\n",
    "    ar = np.zeros((1,), dtype=np.int8)\n",
    "    DataStructs.ConvertToNumpyArray(fp, ar)\n",
    "    return ar"
   ]
  },
  {
   "cell_type": "code",
   "execution_count": 28,
   "id": "3b4d3820",
   "metadata": {},
   "outputs": [],
   "source": [
    "train[\"FPs\"] = train.Molecule.apply(mol2fp)"
   ]
  },
  {
   "cell_type": "code",
   "execution_count": 30,
   "id": "5b1fd973",
   "metadata": {},
   "outputs": [
    {
     "data": {
      "text/plain": [
       "1024"
      ]
     },
     "execution_count": 30,
     "metadata": {},
     "output_type": "execute_result"
    }
   ],
   "source": [
    "len(train[\"FPs\"][0])"
   ]
  },
  {
   "cell_type": "code",
   "execution_count": 26,
   "id": "cf3fc846",
   "metadata": {
    "scrolled": true
   },
   "outputs": [
    {
     "data": {
      "text/plain": [
       "0"
      ]
     },
     "execution_count": 26,
     "metadata": {},
     "output_type": "execute_result"
    }
   ],
   "source": [
    "np.array([x==0 for x in train[\"FPs\"].sum()]).sum()"
   ]
  }
 ],
 "metadata": {
  "kernelspec": {
   "display_name": "Python 3 (ipykernel)",
   "language": "python",
   "name": "python3"
  },
  "language_info": {
   "codemirror_mode": {
    "name": "ipython",
    "version": 3
   },
   "file_extension": ".py",
   "mimetype": "text/x-python",
   "name": "python",
   "nbconvert_exporter": "python",
   "pygments_lexer": "ipython3",
   "version": "3.9.13"
  }
 },
 "nbformat": 4,
 "nbformat_minor": 5
}
